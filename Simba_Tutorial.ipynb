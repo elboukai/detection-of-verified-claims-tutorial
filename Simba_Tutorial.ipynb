{
 "cells": [
  {
   "cell_type": "markdown",
   "id": "dfdc3b3e",
   "metadata": {},
   "source": [
    "### Learning Objectives"
   ]
  },
  {
   "cell_type": "markdown",
   "id": "fcfbbb0e",
   "metadata": {},
   "source": [
    "By the end of this tutorial, you will be able to:\n",
    "\n",
    "- Run SimBa to retrieve similar fact-checked claims for any input sentence\n",
    "- Interpret SimBa's output and similarity scores\n",
    "- Customize retrieval and reranking settings\n",
    "- Plot and analyze the distribution of similarity scores"
   ]
  },
  {
   "cell_type": "markdown",
   "id": "003f1c51",
   "metadata": {},
   "source": [
    "#### Target Audience"
   ]
  },
  {
   "cell_type": "markdown",
   "id": "da013388",
   "metadata": {},
   "source": [
    "This tutorial is aimed at **beginners with some knowledge of Python** and basic familiarity with terminal commands or Jupyter Notebooks."
   ]
  },
  {
   "cell_type": "markdown",
   "id": "565f1919",
   "metadata": {},
   "source": [
    "#### Setting up the Computational Environment"
   ]
  },
  {
   "cell_type": "markdown",
   "id": "34199db7",
   "metadata": {},
   "source": [
    "The following Python packages are required:"
   ]
  },
  {
   "cell_type": "code",
   "execution_count": 1,
   "id": "6ab3252e-a8d7-4e93-8cf6-7ad68f6dedd4",
   "metadata": {},
   "outputs": [
    {
     "name": "stdout",
     "output_type": "stream",
     "text": [
      "Requirement already satisfied: pandas in c:\\users\\elboukai\\appdata\\local\\programs\\python\\python311\\lib\\site-packages (1.5.3)\n",
      "Requirement already satisfied: matplotlib in c:\\users\\elboukai\\appdata\\local\\programs\\python\\python311\\lib\\site-packages (3.6.3)\n",
      "Requirement already satisfied: nltk in c:\\users\\elboukai\\appdata\\local\\programs\\python\\python311\\lib\\site-packages (3.7)\n",
      "Requirement already satisfied: python-dateutil>=2.8.1 in c:\\users\\elboukai\\appdata\\local\\programs\\python\\python311\\lib\\site-packages (from pandas) (2.9.0.post0)\n",
      "Requirement already satisfied: pytz>=2020.1 in c:\\users\\elboukai\\appdata\\local\\programs\\python\\python311\\lib\\site-packages (from pandas) (2024.2)\n",
      "Requirement already satisfied: numpy>=1.21.0 in c:\\users\\elboukai\\appdata\\local\\programs\\python\\python311\\lib\\site-packages (from pandas) (1.24.3)\n",
      "Requirement already satisfied: contourpy>=1.0.1 in c:\\users\\elboukai\\appdata\\local\\programs\\python\\python311\\lib\\site-packages (from matplotlib) (1.3.1)\n",
      "Requirement already satisfied: cycler>=0.10 in c:\\users\\elboukai\\appdata\\local\\programs\\python\\python311\\lib\\site-packages (from matplotlib) (0.12.1)\n",
      "Requirement already satisfied: fonttools>=4.22.0 in c:\\users\\elboukai\\appdata\\local\\programs\\python\\python311\\lib\\site-packages (from matplotlib) (4.55.2)\n",
      "Requirement already satisfied: kiwisolver>=1.0.1 in c:\\users\\elboukai\\appdata\\local\\programs\\python\\python311\\lib\\site-packages (from matplotlib) (1.4.7)\n",
      "Requirement already satisfied: packaging>=20.0 in c:\\users\\elboukai\\appdata\\local\\programs\\python\\python311\\lib\\site-packages (from matplotlib) (24.2)\n",
      "Requirement already satisfied: pillow>=6.2.0 in c:\\users\\elboukai\\appdata\\local\\programs\\python\\python311\\lib\\site-packages (from matplotlib) (11.0.0)\n",
      "Requirement already satisfied: pyparsing>=2.2.1 in c:\\users\\elboukai\\appdata\\local\\programs\\python\\python311\\lib\\site-packages (from matplotlib) (3.2.0)\n",
      "Requirement already satisfied: click in c:\\users\\elboukai\\appdata\\local\\programs\\python\\python311\\lib\\site-packages (from nltk) (8.1.7)\n",
      "Requirement already satisfied: joblib in c:\\users\\elboukai\\appdata\\local\\programs\\python\\python311\\lib\\site-packages (from nltk) (1.4.2)\n",
      "Requirement already satisfied: regex>=2021.8.3 in c:\\users\\elboukai\\appdata\\local\\programs\\python\\python311\\lib\\site-packages (from nltk) (2022.10.31)\n",
      "Requirement already satisfied: tqdm in c:\\users\\elboukai\\appdata\\local\\programs\\python\\python311\\lib\\site-packages (from nltk) (4.67.1)\n",
      "Requirement already satisfied: six>=1.5 in c:\\users\\elboukai\\appdata\\local\\programs\\python\\python311\\lib\\site-packages (from python-dateutil>=2.8.1->pandas) (1.17.0)\n",
      "Requirement already satisfied: colorama in c:\\users\\elboukai\\appdata\\local\\programs\\python\\python311\\lib\\site-packages (from click->nltk) (0.4.6)\n"
     ]
    },
    {
     "name": "stderr",
     "output_type": "stream",
     "text": [
      "\n",
      "[notice] A new release of pip is available: 24.3.1 -> 25.2\n",
      "[notice] To update, run: python.exe -m pip install --upgrade pip\n"
     ]
    }
   ],
   "source": [
    "!pip install pandas matplotlib nltk"
   ]
  },
  {
   "cell_type": "markdown",
   "id": "683840c6-1670-4e96-a6d8-023d4f6fca28",
   "metadata": {},
   "source": [
    "You must also install packages listed in SimBa's `requirements.txt`:"
   ]
  },
  {
   "cell_type": "code",
   "execution_count": 4,
   "id": "fe10a713-5264-4b1d-ac0c-5833feb3b3bc",
   "metadata": {},
   "outputs": [
    {
     "name": "stdout",
     "output_type": "stream",
     "text": [
      "Requirement already satisfied: demoji==1.1.0 in c:\\users\\elboukai\\appdata\\local\\programs\\python\\python311\\lib\\site-packages (from -r H:/detection-of-verified-claims/requirements.txt (line 1)) (1.1.0)\n",
      "Requirement already satisfied: gdown==4.6.4 in c:\\users\\elboukai\\appdata\\local\\programs\\python\\python311\\lib\\site-packages (from -r H:/detection-of-verified-claims/requirements.txt (line 2)) (4.6.4)\n",
      "Requirement already satisfied: matplotlib==3.6.3 in c:\\users\\elboukai\\appdata\\local\\programs\\python\\python311\\lib\\site-packages (from -r H:/detection-of-verified-claims/requirements.txt (line 3)) (3.6.3)\n",
      "Requirement already satisfied: nerd==1.0.0 in c:\\users\\elboukai\\appdata\\local\\programs\\python\\python311\\lib\\site-packages (from -r H:/detection-of-verified-claims/requirements.txt (line 4)) (1.0.0)\n",
      "Requirement already satisfied: entity-fishing-client in c:\\users\\elboukai\\appdata\\local\\programs\\python\\python311\\lib\\site-packages (from -r H:/detection-of-verified-claims/requirements.txt (line 5)) (0.7.2)\n",
      "Requirement already satisfied: nltk==3.7 in c:\\users\\elboukai\\appdata\\local\\programs\\python\\python311\\lib\\site-packages (from -r H:/detection-of-verified-claims/requirements.txt (line 6)) (3.7)\n",
      "Requirement already satisfied: numpy==1.24.3 in c:\\users\\elboukai\\appdata\\local\\programs\\python\\python311\\lib\\site-packages (from -r H:/detection-of-verified-claims/requirements.txt (line 7)) (1.24.3)\n",
      "Requirement already satisfied: pandas==1.5.3 in c:\\users\\elboukai\\appdata\\local\\programs\\python\\python311\\lib\\site-packages (from -r H:/detection-of-verified-claims/requirements.txt (line 8)) (1.5.3)\n",
      "Requirement already satisfied: python_Levenshtein==0.20.9 in c:\\users\\elboukai\\appdata\\local\\programs\\python\\python311\\lib\\site-packages (from -r H:/detection-of-verified-claims/requirements.txt (line 9)) (0.20.9)\n",
      "Requirement already satisfied: regex==2022.10.31 in c:\\users\\elboukai\\appdata\\local\\programs\\python\\python311\\lib\\site-packages (from -r H:/detection-of-verified-claims/requirements.txt (line 10)) (2022.10.31)\n",
      "Collecting requests==2.25.1 (from -r H:/detection-of-verified-claims/requirements.txt (line 11))\n",
      "  Using cached requests-2.25.1-py2.py3-none-any.whl.metadata (4.2 kB)\n",
      "Requirement already satisfied: scikit_learn==1.2.2 in c:\\users\\elboukai\\appdata\\local\\programs\\python\\python311\\lib\\site-packages (from -r H:/detection-of-verified-claims/requirements.txt (line 12)) (1.2.2)\n",
      "Requirement already satisfied: scipy==1.10.1 in c:\\users\\elboukai\\appdata\\local\\programs\\python\\python311\\lib\\site-packages (from -r H:/detection-of-verified-claims/requirements.txt (line 13)) (1.10.1)\n",
      "Requirement already satisfied: sentence_transformers==2.2.2 in c:\\users\\elboukai\\appdata\\local\\programs\\python\\python311\\lib\\site-packages (from -r H:/detection-of-verified-claims/requirements.txt (line 14)) (2.2.2)\n",
      "Requirement already satisfied: tensorflow_hub==0.12.0 in c:\\users\\elboukai\\appdata\\local\\programs\\python\\python311\\lib\\site-packages (from -r H:/detection-of-verified-claims/requirements.txt (line 15)) (0.12.0)\n",
      "Requirement already satisfied: torch==2.1.0 in c:\\users\\elboukai\\appdata\\local\\programs\\python\\python311\\lib\\site-packages (from -r H:/detection-of-verified-claims/requirements.txt (line 16)) (2.1.0)\n",
      "Requirement already satisfied: trectools==0.0.49 in c:\\users\\elboukai\\appdata\\local\\programs\\python\\python311\\lib\\site-packages (from -r H:/detection-of-verified-claims/requirements.txt (line 17)) (0.0.49)\n",
      "Requirement already satisfied: tensorflow==2.13.1 in c:\\users\\elboukai\\appdata\\local\\programs\\python\\python311\\lib\\site-packages (from -r H:/detection-of-verified-claims/requirements.txt (line 18)) (2.13.1)\n",
      "Requirement already satisfied: spacy in c:\\users\\elboukai\\appdata\\local\\programs\\python\\python311\\lib\\site-packages (from -r H:/detection-of-verified-claims/requirements.txt (line 19)) (3.5.0)\n",
      "Requirement already satisfied: protobuf==3.20.3 in c:\\users\\elboukai\\appdata\\local\\programs\\python\\python311\\lib\\site-packages (from -r H:/detection-of-verified-claims/requirements.txt (line 20)) (3.20.3)\n",
      "Requirement already satisfied: huggingface-hub==0.25.2 in c:\\users\\elboukai\\appdata\\local\\programs\\python\\python311\\lib\\site-packages (from -r H:/detection-of-verified-claims/requirements.txt (line 21)) (0.25.2)\n",
      "Requirement already satisfied: filelock in c:\\users\\elboukai\\appdata\\local\\programs\\python\\python311\\lib\\site-packages (from gdown==4.6.4->-r H:/detection-of-verified-claims/requirements.txt (line 2)) (3.16.1)\n",
      "Requirement already satisfied: six in c:\\users\\elboukai\\appdata\\local\\programs\\python\\python311\\lib\\site-packages (from gdown==4.6.4->-r H:/detection-of-verified-claims/requirements.txt (line 2)) (1.17.0)\n",
      "Requirement already satisfied: tqdm in c:\\users\\elboukai\\appdata\\local\\programs\\python\\python311\\lib\\site-packages (from gdown==4.6.4->-r H:/detection-of-verified-claims/requirements.txt (line 2)) (4.67.1)\n",
      "Requirement already satisfied: beautifulsoup4 in c:\\users\\elboukai\\appdata\\local\\programs\\python\\python311\\lib\\site-packages (from gdown==4.6.4->-r H:/detection-of-verified-claims/requirements.txt (line 2)) (4.12.3)\n",
      "Requirement already satisfied: contourpy>=1.0.1 in c:\\users\\elboukai\\appdata\\local\\programs\\python\\python311\\lib\\site-packages (from matplotlib==3.6.3->-r H:/detection-of-verified-claims/requirements.txt (line 3)) (1.3.1)\n",
      "Requirement already satisfied: cycler>=0.10 in c:\\users\\elboukai\\appdata\\local\\programs\\python\\python311\\lib\\site-packages (from matplotlib==3.6.3->-r H:/detection-of-verified-claims/requirements.txt (line 3)) (0.12.1)\n",
      "Requirement already satisfied: fonttools>=4.22.0 in c:\\users\\elboukai\\appdata\\local\\programs\\python\\python311\\lib\\site-packages (from matplotlib==3.6.3->-r H:/detection-of-verified-claims/requirements.txt (line 3)) (4.55.2)\n",
      "Requirement already satisfied: kiwisolver>=1.0.1 in c:\\users\\elboukai\\appdata\\local\\programs\\python\\python311\\lib\\site-packages (from matplotlib==3.6.3->-r H:/detection-of-verified-claims/requirements.txt (line 3)) (1.4.7)\n",
      "Requirement already satisfied: packaging>=20.0 in c:\\users\\elboukai\\appdata\\local\\programs\\python\\python311\\lib\\site-packages (from matplotlib==3.6.3->-r H:/detection-of-verified-claims/requirements.txt (line 3)) (24.2)\n",
      "Requirement already satisfied: pillow>=6.2.0 in c:\\users\\elboukai\\appdata\\local\\programs\\python\\python311\\lib\\site-packages (from matplotlib==3.6.3->-r H:/detection-of-verified-claims/requirements.txt (line 3)) (11.0.0)\n",
      "Requirement already satisfied: pyparsing>=2.2.1 in c:\\users\\elboukai\\appdata\\local\\programs\\python\\python311\\lib\\site-packages (from matplotlib==3.6.3->-r H:/detection-of-verified-claims/requirements.txt (line 3)) (3.2.0)\n",
      "Requirement already satisfied: python-dateutil>=2.7 in c:\\users\\elboukai\\appdata\\local\\programs\\python\\python311\\lib\\site-packages (from matplotlib==3.6.3->-r H:/detection-of-verified-claims/requirements.txt (line 3)) (2.9.0.post0)\n",
      "Requirement already satisfied: click in c:\\users\\elboukai\\appdata\\local\\programs\\python\\python311\\lib\\site-packages (from nltk==3.7->-r H:/detection-of-verified-claims/requirements.txt (line 6)) (8.1.7)\n",
      "Requirement already satisfied: joblib in c:\\users\\elboukai\\appdata\\local\\programs\\python\\python311\\lib\\site-packages (from nltk==3.7->-r H:/detection-of-verified-claims/requirements.txt (line 6)) (1.4.2)\n",
      "Requirement already satisfied: pytz>=2020.1 in c:\\users\\elboukai\\appdata\\local\\programs\\python\\python311\\lib\\site-packages (from pandas==1.5.3->-r H:/detection-of-verified-claims/requirements.txt (line 8)) (2024.2)\n",
      "Requirement already satisfied: Levenshtein==0.20.9 in c:\\users\\elboukai\\appdata\\local\\programs\\python\\python311\\lib\\site-packages (from python_Levenshtein==0.20.9->-r H:/detection-of-verified-claims/requirements.txt (line 9)) (0.20.9)\n",
      "Requirement already satisfied: chardet<5,>=3.0.2 in c:\\users\\elboukai\\appdata\\local\\programs\\python\\python311\\lib\\site-packages (from requests==2.25.1->-r H:/detection-of-verified-claims/requirements.txt (line 11)) (4.0.0)\n",
      "Requirement already satisfied: idna<3,>=2.5 in c:\\users\\elboukai\\appdata\\local\\programs\\python\\python311\\lib\\site-packages (from requests==2.25.1->-r H:/detection-of-verified-claims/requirements.txt (line 11)) (2.10)\n",
      "Requirement already satisfied: urllib3<1.27,>=1.21.1 in c:\\users\\elboukai\\appdata\\local\\programs\\python\\python311\\lib\\site-packages (from requests==2.25.1->-r H:/detection-of-verified-claims/requirements.txt (line 11)) (1.26.20)\n",
      "Requirement already satisfied: certifi>=2017.4.17 in c:\\users\\elboukai\\appdata\\local\\programs\\python\\python311\\lib\\site-packages (from requests==2.25.1->-r H:/detection-of-verified-claims/requirements.txt (line 11)) (2024.8.30)\n",
      "Requirement already satisfied: threadpoolctl>=2.0.0 in c:\\users\\elboukai\\appdata\\local\\programs\\python\\python311\\lib\\site-packages (from scikit_learn==1.2.2->-r H:/detection-of-verified-claims/requirements.txt (line 12)) (3.5.0)\n",
      "Requirement already satisfied: transformers<5.0.0,>=4.6.0 in c:\\users\\elboukai\\appdata\\local\\programs\\python\\python311\\lib\\site-packages (from sentence_transformers==2.2.2->-r H:/detection-of-verified-claims/requirements.txt (line 14)) (4.47.0)\n",
      "Requirement already satisfied: torchvision in c:\\users\\elboukai\\appdata\\local\\programs\\python\\python311\\lib\\site-packages (from sentence_transformers==2.2.2->-r H:/detection-of-verified-claims/requirements.txt (line 14)) (0.16.0)\n",
      "Requirement already satisfied: sentencepiece in c:\\users\\elboukai\\appdata\\local\\programs\\python\\python311\\lib\\site-packages (from sentence_transformers==2.2.2->-r H:/detection-of-verified-claims/requirements.txt (line 14)) (0.2.0)\n",
      "Requirement already satisfied: typing-extensions in c:\\users\\elboukai\\appdata\\local\\programs\\python\\python311\\lib\\site-packages (from torch==2.1.0->-r H:/detection-of-verified-claims/requirements.txt (line 16)) (4.15.0)\n",
      "Requirement already satisfied: sympy in c:\\users\\elboukai\\appdata\\local\\programs\\python\\python311\\lib\\site-packages (from torch==2.1.0->-r H:/detection-of-verified-claims/requirements.txt (line 16)) (1.13.3)\n",
      "Requirement already satisfied: networkx in c:\\users\\elboukai\\appdata\\local\\programs\\python\\python311\\lib\\site-packages (from torch==2.1.0->-r H:/detection-of-verified-claims/requirements.txt (line 16)) (3.4.2)\n",
      "Requirement already satisfied: jinja2 in c:\\users\\elboukai\\appdata\\local\\programs\\python\\python311\\lib\\site-packages (from torch==2.1.0->-r H:/detection-of-verified-claims/requirements.txt (line 16)) (3.1.4)\n",
      "Requirement already satisfied: fsspec in c:\\users\\elboukai\\appdata\\local\\programs\\python\\python311\\lib\\site-packages (from torch==2.1.0->-r H:/detection-of-verified-claims/requirements.txt (line 16)) (2024.10.0)\n",
      "Requirement already satisfied: sarge>=0.1.1 in c:\\users\\elboukai\\appdata\\local\\programs\\python\\python311\\lib\\site-packages (from trectools==0.0.49->-r H:/detection-of-verified-claims/requirements.txt (line 17)) (0.1.7.post1)\n",
      "Requirement already satisfied: lxml>=3.6.0 in c:\\users\\elboukai\\appdata\\local\\programs\\python\\python311\\lib\\site-packages (from trectools==0.0.49->-r H:/detection-of-verified-claims/requirements.txt (line 17)) (5.3.0)\n",
      "Requirement already satisfied: bs4>=0.0.0.1 in c:\\users\\elboukai\\appdata\\local\\programs\\python\\python311\\lib\\site-packages (from trectools==0.0.49->-r H:/detection-of-verified-claims/requirements.txt (line 17)) (0.0.2)\n",
      "Requirement already satisfied: tensorflow-intel==2.13.1 in c:\\users\\elboukai\\appdata\\local\\programs\\python\\python311\\lib\\site-packages (from tensorflow==2.13.1->-r H:/detection-of-verified-claims/requirements.txt (line 18)) (2.13.1)\n",
      "Requirement already satisfied: pyyaml>=5.1 in c:\\users\\elboukai\\appdata\\local\\programs\\python\\python311\\lib\\site-packages (from huggingface-hub==0.25.2->-r H:/detection-of-verified-claims/requirements.txt (line 21)) (6.0.2)\n",
      "Requirement already satisfied: rapidfuzz<3.0.0,>=2.3.0 in c:\\users\\elboukai\\appdata\\local\\programs\\python\\python311\\lib\\site-packages (from Levenshtein==0.20.9->python_Levenshtein==0.20.9->-r H:/detection-of-verified-claims/requirements.txt (line 9)) (2.15.2)\n",
      "Requirement already satisfied: absl-py>=1.0.0 in c:\\users\\elboukai\\appdata\\local\\programs\\python\\python311\\lib\\site-packages (from tensorflow-intel==2.13.1->tensorflow==2.13.1->-r H:/detection-of-verified-claims/requirements.txt (line 18)) (2.1.0)\n",
      "Requirement already satisfied: astunparse>=1.6.0 in c:\\users\\elboukai\\appdata\\local\\programs\\python\\python311\\lib\\site-packages (from tensorflow-intel==2.13.1->tensorflow==2.13.1->-r H:/detection-of-verified-claims/requirements.txt (line 18)) (1.6.3)\n",
      "Requirement already satisfied: flatbuffers>=23.1.21 in c:\\users\\elboukai\\appdata\\local\\programs\\python\\python311\\lib\\site-packages (from tensorflow-intel==2.13.1->tensorflow==2.13.1->-r H:/detection-of-verified-claims/requirements.txt (line 18)) (24.3.25)\n",
      "Requirement already satisfied: gast<=0.4.0,>=0.2.1 in c:\\users\\elboukai\\appdata\\local\\programs\\python\\python311\\lib\\site-packages (from tensorflow-intel==2.13.1->tensorflow==2.13.1->-r H:/detection-of-verified-claims/requirements.txt (line 18)) (0.4.0)\n",
      "Requirement already satisfied: google-pasta>=0.1.1 in c:\\users\\elboukai\\appdata\\local\\programs\\python\\python311\\lib\\site-packages (from tensorflow-intel==2.13.1->tensorflow==2.13.1->-r H:/detection-of-verified-claims/requirements.txt (line 18)) (0.2.0)\n",
      "Requirement already satisfied: h5py>=2.9.0 in c:\\users\\elboukai\\appdata\\local\\programs\\python\\python311\\lib\\site-packages (from tensorflow-intel==2.13.1->tensorflow==2.13.1->-r H:/detection-of-verified-claims/requirements.txt (line 18)) (3.12.1)\n",
      "Requirement already satisfied: libclang>=13.0.0 in c:\\users\\elboukai\\appdata\\local\\programs\\python\\python311\\lib\\site-packages (from tensorflow-intel==2.13.1->tensorflow==2.13.1->-r H:/detection-of-verified-claims/requirements.txt (line 18)) (18.1.1)\n",
      "Requirement already satisfied: opt-einsum>=2.3.2 in c:\\users\\elboukai\\appdata\\local\\programs\\python\\python311\\lib\\site-packages (from tensorflow-intel==2.13.1->tensorflow==2.13.1->-r H:/detection-of-verified-claims/requirements.txt (line 18)) (3.4.0)\n",
      "Requirement already satisfied: setuptools in c:\\users\\elboukai\\appdata\\local\\programs\\python\\python311\\lib\\site-packages (from tensorflow-intel==2.13.1->tensorflow==2.13.1->-r H:/detection-of-verified-claims/requirements.txt (line 18)) (75.6.0)\n",
      "Requirement already satisfied: termcolor>=1.1.0 in c:\\users\\elboukai\\appdata\\local\\programs\\python\\python311\\lib\\site-packages (from tensorflow-intel==2.13.1->tensorflow==2.13.1->-r H:/detection-of-verified-claims/requirements.txt (line 18)) (2.5.0)\n",
      "Collecting typing-extensions (from torch==2.1.0->-r H:/detection-of-verified-claims/requirements.txt (line 16))\n",
      "  Using cached typing_extensions-4.5.0-py3-none-any.whl.metadata (8.5 kB)\n",
      "Requirement already satisfied: wrapt>=1.11.0 in c:\\users\\elboukai\\appdata\\local\\programs\\python\\python311\\lib\\site-packages (from tensorflow-intel==2.13.1->tensorflow==2.13.1->-r H:/detection-of-verified-claims/requirements.txt (line 18)) (1.17.0)\n",
      "Requirement already satisfied: grpcio<2.0,>=1.24.3 in c:\\users\\elboukai\\appdata\\local\\programs\\python\\python311\\lib\\site-packages (from tensorflow-intel==2.13.1->tensorflow==2.13.1->-r H:/detection-of-verified-claims/requirements.txt (line 18)) (1.68.1)\n",
      "Requirement already satisfied: tensorboard<2.14,>=2.13 in c:\\users\\elboukai\\appdata\\local\\programs\\python\\python311\\lib\\site-packages (from tensorflow-intel==2.13.1->tensorflow==2.13.1->-r H:/detection-of-verified-claims/requirements.txt (line 18)) (2.13.0)\n",
      "Requirement already satisfied: tensorflow-estimator<2.14,>=2.13.0 in c:\\users\\elboukai\\appdata\\local\\programs\\python\\python311\\lib\\site-packages (from tensorflow-intel==2.13.1->tensorflow==2.13.1->-r H:/detection-of-verified-claims/requirements.txt (line 18)) (2.13.0)\n",
      "Requirement already satisfied: keras<2.14,>=2.13.1 in c:\\users\\elboukai\\appdata\\local\\programs\\python\\python311\\lib\\site-packages (from tensorflow-intel==2.13.1->tensorflow==2.13.1->-r H:/detection-of-verified-claims/requirements.txt (line 18)) (2.13.1)\n",
      "Requirement already satisfied: tensorflow-io-gcs-filesystem>=0.23.1 in c:\\users\\elboukai\\appdata\\local\\programs\\python\\python311\\lib\\site-packages (from tensorflow-intel==2.13.1->tensorflow==2.13.1->-r H:/detection-of-verified-claims/requirements.txt (line 18)) (0.31.0)\n",
      "Requirement already satisfied: zenlog in c:\\users\\elboukai\\appdata\\local\\programs\\python\\python311\\lib\\site-packages (from entity-fishing-client->-r H:/detection-of-verified-claims/requirements.txt (line 5)) (1.1)\n",
      "Requirement already satisfied: spacy-legacy<3.1.0,>=3.0.11 in c:\\users\\elboukai\\appdata\\local\\programs\\python\\python311\\lib\\site-packages (from spacy->-r H:/detection-of-verified-claims/requirements.txt (line 19)) (3.0.12)\n",
      "Requirement already satisfied: spacy-loggers<2.0.0,>=1.0.0 in c:\\users\\elboukai\\appdata\\local\\programs\\python\\python311\\lib\\site-packages (from spacy->-r H:/detection-of-verified-claims/requirements.txt (line 19)) (1.0.5)\n",
      "Requirement already satisfied: murmurhash<1.1.0,>=0.28.0 in c:\\users\\elboukai\\appdata\\local\\programs\\python\\python311\\lib\\site-packages (from spacy->-r H:/detection-of-verified-claims/requirements.txt (line 19)) (1.0.11)\n",
      "Requirement already satisfied: cymem<2.1.0,>=2.0.2 in c:\\users\\elboukai\\appdata\\local\\programs\\python\\python311\\lib\\site-packages (from spacy->-r H:/detection-of-verified-claims/requirements.txt (line 19)) (2.0.10)\n",
      "Requirement already satisfied: preshed<3.1.0,>=3.0.2 in c:\\users\\elboukai\\appdata\\local\\programs\\python\\python311\\lib\\site-packages (from spacy->-r H:/detection-of-verified-claims/requirements.txt (line 19)) (3.0.9)\n",
      "Requirement already satisfied: thinc<8.2.0,>=8.1.0 in c:\\users\\elboukai\\appdata\\local\\programs\\python\\python311\\lib\\site-packages (from spacy->-r H:/detection-of-verified-claims/requirements.txt (line 19)) (8.1.12)\n",
      "Requirement already satisfied: wasabi<1.2.0,>=0.9.1 in c:\\users\\elboukai\\appdata\\local\\programs\\python\\python311\\lib\\site-packages (from spacy->-r H:/detection-of-verified-claims/requirements.txt (line 19)) (1.1.3)\n",
      "Requirement already satisfied: srsly<3.0.0,>=2.4.3 in c:\\users\\elboukai\\appdata\\local\\programs\\python\\python311\\lib\\site-packages (from spacy->-r H:/detection-of-verified-claims/requirements.txt (line 19)) (2.4.8)\n",
      "Requirement already satisfied: catalogue<2.1.0,>=2.0.6 in c:\\users\\elboukai\\appdata\\local\\programs\\python\\python311\\lib\\site-packages (from spacy->-r H:/detection-of-verified-claims/requirements.txt (line 19)) (2.0.10)\n",
      "Requirement already satisfied: typer<0.8.0,>=0.3.0 in c:\\users\\elboukai\\appdata\\local\\programs\\python\\python311\\lib\\site-packages (from spacy->-r H:/detection-of-verified-claims/requirements.txt (line 19)) (0.7.0)\n",
      "Requirement already satisfied: pathy>=0.10.0 in c:\\users\\elboukai\\appdata\\local\\programs\\python\\python311\\lib\\site-packages (from spacy->-r H:/detection-of-verified-claims/requirements.txt (line 19)) (0.11.0)\n",
      "Requirement already satisfied: smart-open<7.0.0,>=5.2.1 in c:\\users\\elboukai\\appdata\\local\\programs\\python\\python311\\lib\\site-packages (from spacy->-r H:/detection-of-verified-claims/requirements.txt (line 19)) (6.4.0)\n",
      "Requirement already satisfied: pydantic!=1.8,!=1.8.1,<1.11.0,>=1.7.4 in c:\\users\\elboukai\\appdata\\local\\programs\\python\\python311\\lib\\site-packages (from spacy->-r H:/detection-of-verified-claims/requirements.txt (line 19)) (1.10.19)\n",
      "Requirement already satisfied: langcodes<4.0.0,>=3.2.0 in c:\\users\\elboukai\\appdata\\local\\programs\\python\\python311\\lib\\site-packages (from spacy->-r H:/detection-of-verified-claims/requirements.txt (line 19)) (3.5.0)\n",
      "Requirement already satisfied: language-data>=1.2 in c:\\users\\elboukai\\appdata\\local\\programs\\python\\python311\\lib\\site-packages (from langcodes<4.0.0,>=3.2.0->spacy->-r H:/detection-of-verified-claims/requirements.txt (line 19)) (1.3.0)\n",
      "Requirement already satisfied: pathlib-abc==0.1.1 in c:\\users\\elboukai\\appdata\\local\\programs\\python\\python311\\lib\\site-packages (from pathy>=0.10.0->spacy->-r H:/detection-of-verified-claims/requirements.txt (line 19)) (0.1.1)\n",
      "Requirement already satisfied: blis<0.8.0,>=0.7.8 in c:\\users\\elboukai\\appdata\\local\\programs\\python\\python311\\lib\\site-packages (from thinc<8.2.0,>=8.1.0->spacy->-r H:/detection-of-verified-claims/requirements.txt (line 19)) (0.7.11)\n",
      "Requirement already satisfied: confection<1.0.0,>=0.0.1 in c:\\users\\elboukai\\appdata\\local\\programs\\python\\python311\\lib\\site-packages (from thinc<8.2.0,>=8.1.0->spacy->-r H:/detection-of-verified-claims/requirements.txt (line 19)) (0.1.5)\n",
      "Requirement already satisfied: colorama in c:\\users\\elboukai\\appdata\\local\\programs\\python\\python311\\lib\\site-packages (from tqdm->gdown==4.6.4->-r H:/detection-of-verified-claims/requirements.txt (line 2)) (0.4.6)\n",
      "Requirement already satisfied: tokenizers<0.22,>=0.21 in c:\\users\\elboukai\\appdata\\local\\programs\\python\\python311\\lib\\site-packages (from transformers<5.0.0,>=4.6.0->sentence_transformers==2.2.2->-r H:/detection-of-verified-claims/requirements.txt (line 14)) (0.21.0)\n",
      "Requirement already satisfied: safetensors>=0.4.1 in c:\\users\\elboukai\\appdata\\local\\programs\\python\\python311\\lib\\site-packages (from transformers<5.0.0,>=4.6.0->sentence_transformers==2.2.2->-r H:/detection-of-verified-claims/requirements.txt (line 14)) (0.4.5)\n",
      "Requirement already satisfied: soupsieve>1.2 in c:\\users\\elboukai\\appdata\\local\\programs\\python\\python311\\lib\\site-packages (from beautifulsoup4->gdown==4.6.4->-r H:/detection-of-verified-claims/requirements.txt (line 2)) (2.6)\n",
      "Requirement already satisfied: MarkupSafe>=2.0 in c:\\users\\elboukai\\appdata\\local\\programs\\python\\python311\\lib\\site-packages (from jinja2->torch==2.1.0->-r H:/detection-of-verified-claims/requirements.txt (line 16)) (3.0.2)\n",
      "Requirement already satisfied: PySocks!=1.5.7,>=1.5.6 in c:\\users\\elboukai\\appdata\\local\\programs\\python\\python311\\lib\\site-packages (from requests[socks]->gdown==4.6.4->-r H:/detection-of-verified-claims/requirements.txt (line 2)) (1.7.1)\n",
      "Requirement already satisfied: mpmath<1.4,>=1.1.0 in c:\\users\\elboukai\\appdata\\local\\programs\\python\\python311\\lib\\site-packages (from sympy->torch==2.1.0->-r H:/detection-of-verified-claims/requirements.txt (line 16)) (1.3.0)\n",
      "Requirement already satisfied: colorlog in c:\\users\\elboukai\\appdata\\local\\programs\\python\\python311\\lib\\site-packages (from zenlog->entity-fishing-client->-r H:/detection-of-verified-claims/requirements.txt (line 5)) (6.9.0)\n",
      "Requirement already satisfied: wheel<1.0,>=0.23.0 in c:\\users\\elboukai\\appdata\\local\\programs\\python\\python311\\lib\\site-packages (from astunparse>=1.6.0->tensorflow-intel==2.13.1->tensorflow==2.13.1->-r H:/detection-of-verified-claims/requirements.txt (line 18)) (0.45.1)\n",
      "Requirement already satisfied: marisa-trie>=1.1.0 in c:\\users\\elboukai\\appdata\\local\\programs\\python\\python311\\lib\\site-packages (from language-data>=1.2->langcodes<4.0.0,>=3.2.0->spacy->-r H:/detection-of-verified-claims/requirements.txt (line 19)) (1.2.1)\n",
      "Requirement already satisfied: google-auth<3,>=1.6.3 in c:\\users\\elboukai\\appdata\\local\\programs\\python\\python311\\lib\\site-packages (from tensorboard<2.14,>=2.13->tensorflow-intel==2.13.1->tensorflow==2.13.1->-r H:/detection-of-verified-claims/requirements.txt (line 18)) (2.36.0)\n",
      "Requirement already satisfied: google-auth-oauthlib<1.1,>=0.5 in c:\\users\\elboukai\\appdata\\local\\programs\\python\\python311\\lib\\site-packages (from tensorboard<2.14,>=2.13->tensorflow-intel==2.13.1->tensorflow==2.13.1->-r H:/detection-of-verified-claims/requirements.txt (line 18)) (1.0.0)\n",
      "Requirement already satisfied: markdown>=2.6.8 in c:\\users\\elboukai\\appdata\\local\\programs\\python\\python311\\lib\\site-packages (from tensorboard<2.14,>=2.13->tensorflow-intel==2.13.1->tensorflow==2.13.1->-r H:/detection-of-verified-claims/requirements.txt (line 18)) (3.7)\n",
      "Requirement already satisfied: tensorboard-data-server<0.8.0,>=0.7.0 in c:\\users\\elboukai\\appdata\\local\\programs\\python\\python311\\lib\\site-packages (from tensorboard<2.14,>=2.13->tensorflow-intel==2.13.1->tensorflow==2.13.1->-r H:/detection-of-verified-claims/requirements.txt (line 18)) (0.7.2)\n",
      "Requirement already satisfied: werkzeug>=1.0.1 in c:\\users\\elboukai\\appdata\\local\\programs\\python\\python311\\lib\\site-packages (from tensorboard<2.14,>=2.13->tensorflow-intel==2.13.1->tensorflow==2.13.1->-r H:/detection-of-verified-claims/requirements.txt (line 18)) (3.1.3)\n",
      "Requirement already satisfied: cachetools<6.0,>=2.0.0 in c:\\users\\elboukai\\appdata\\local\\programs\\python\\python311\\lib\\site-packages (from google-auth<3,>=1.6.3->tensorboard<2.14,>=2.13->tensorflow-intel==2.13.1->tensorflow==2.13.1->-r H:/detection-of-verified-claims/requirements.txt (line 18)) (5.5.0)\n",
      "Requirement already satisfied: pyasn1-modules>=0.2.1 in c:\\users\\elboukai\\appdata\\local\\programs\\python\\python311\\lib\\site-packages (from google-auth<3,>=1.6.3->tensorboard<2.14,>=2.13->tensorflow-intel==2.13.1->tensorflow==2.13.1->-r H:/detection-of-verified-claims/requirements.txt (line 18)) (0.4.1)\n",
      "Requirement already satisfied: rsa<5,>=3.1.4 in c:\\users\\elboukai\\appdata\\local\\programs\\python\\python311\\lib\\site-packages (from google-auth<3,>=1.6.3->tensorboard<2.14,>=2.13->tensorflow-intel==2.13.1->tensorflow==2.13.1->-r H:/detection-of-verified-claims/requirements.txt (line 18)) (4.9)\n",
      "Requirement already satisfied: requests-oauthlib>=0.7.0 in c:\\users\\elboukai\\appdata\\local\\programs\\python\\python311\\lib\\site-packages (from google-auth-oauthlib<1.1,>=0.5->tensorboard<2.14,>=2.13->tensorflow-intel==2.13.1->tensorflow==2.13.1->-r H:/detection-of-verified-claims/requirements.txt (line 18)) (2.0.0)\n",
      "Requirement already satisfied: pyasn1<0.7.0,>=0.4.6 in c:\\users\\elboukai\\appdata\\local\\programs\\python\\python311\\lib\\site-packages (from pyasn1-modules>=0.2.1->google-auth<3,>=1.6.3->tensorboard<2.14,>=2.13->tensorflow-intel==2.13.1->tensorflow==2.13.1->-r H:/detection-of-verified-claims/requirements.txt (line 18)) (0.6.1)\n",
      "Requirement already satisfied: oauthlib>=3.0.0 in c:\\users\\elboukai\\appdata\\local\\programs\\python\\python311\\lib\\site-packages (from requests-oauthlib>=0.7.0->google-auth-oauthlib<1.1,>=0.5->tensorboard<2.14,>=2.13->tensorflow-intel==2.13.1->tensorflow==2.13.1->-r H:/detection-of-verified-claims/requirements.txt (line 18)) (3.2.2)\n",
      "Using cached requests-2.25.1-py2.py3-none-any.whl (61 kB)\n",
      "Using cached typing_extensions-4.5.0-py3-none-any.whl (27 kB)\n",
      "Installing collected packages: typing-extensions, requests\n",
      "  Attempting uninstall: typing-extensions\n",
      "    Found existing installation: typing_extensions 4.15.0\n",
      "    Uninstalling typing_extensions-4.15.0:\n",
      "      Successfully uninstalled typing_extensions-4.15.0\n",
      "  Attempting uninstall: requests\n",
      "    Found existing installation: requests 2.32.5\n",
      "    Uninstalling requests-2.32.5:\n",
      "      Successfully uninstalled requests-2.32.5\n",
      "Successfully installed requests-2.25.1 typing-extensions-4.5.0\n"
     ]
    },
    {
     "name": "stderr",
     "output_type": "stream",
     "text": [
      "ERROR: pip's dependency resolver does not currently take into account all the packages that are installed. This behaviour is the source of the following dependency conflicts.\n",
      "ipython 9.4.0 requires typing_extensions>=4.6; python_version < \"3.12\", but you have typing-extensions 4.5.0 which is incompatible.\n",
      "jupyterlab-server 2.27.3 requires requests>=2.31, but you have requests 2.25.1 which is incompatible.\n",
      "\n",
      "[notice] A new release of pip is available: 24.3.1 -> 25.2\n",
      "[notice] To update, run: python.exe -m pip install --upgrade pip\n"
     ]
    }
   ],
   "source": [
    "!pip install -r H:/detection-of-verified-claims/requirements.txt"
   ]
  },
  {
   "cell_type": "markdown",
   "id": "28b84a2c",
   "metadata": {},
   "source": [
    "#### Duration"
   ]
  },
  {
   "cell_type": "markdown",
   "id": "5be2d0a5",
   "metadata": {},
   "source": [
    "Estimated time to complete this tutorial: **20-30 minutes**"
   ]
  },
  {
   "cell_type": "markdown",
   "id": "e7f66ed6",
   "metadata": {},
   "source": [
    "#### Social Science Use Case(s)"
   ]
  },
  {
   "cell_type": "markdown",
   "id": "cf14f8f2",
   "metadata": {},
   "source": [
    "SimBa has been used in research to support:\n",
    "\n",
    "- Analysis of misinformation spread in online discourse\n",
    "- Retrieval of fact-checked claims from large knowledge bases\n",
    "- Fact-check support for journalistic and academic workflows\n",
    "\n",
    "> For example, SimBa was evaluated in the CLEF CheckThat! Lab to detect previously verified claims ([Hovelmeyer et al., 2022](https://ceur-ws.org/Vol-3180/paper-40.pdf))."
   ]
  },
  {
   "cell_type": "markdown",
   "id": "fe27e585",
   "metadata": {},
   "source": [
    "### SimBa Tutorial: Retrieve Fact-Checks for Your Claims"
   ]
  },
  {
   "cell_type": "markdown",
   "id": "a20c0dd1",
   "metadata": {},
   "source": [
    "This Jupyter notebook walks you through how to use **SimBa** to retrieve fact-checked claims similar to a query.\n",
    "We'll:\n",
    "- Prepare a query\n",
    "- Run SimBa with and without cache\n",
    "- Load and inspect the results\n",
    "- Plot similarity scores"
   ]
  },
  {
   "cell_type": "markdown",
   "id": "path-setup",
   "metadata": {},
   "source": [
    "### Setup: Configure Your SimBa Path\n",
    "\n",
    "**IMPORTANT**: Update the path below to point to your SimBa installation directory."
   ]
  },
  {
   "cell_type": "code",
   "execution_count": 9,
   "id": "path-config",
   "metadata": {},
   "outputs": [
    {
     "name": "stdout",
     "output_type": "stream",
     "text": [
      "Looking for SimBa at: H:\\detection-of-verified-claims\n",
      "Successfully changed to SimBa directory: H:\\detection-of-verified-claims\n"
     ]
    }
   ],
   "source": [
    "# UPDATE THIS PATH to match your SimBa installation\n",
    "import os\n",
    "import sys\n",
    "\n",
    "# Option 1: If SimBa is in your current directory\n",
    "simba_dir = \"H:/detection-of-verified-claims\"\n",
    "\n",
    "# Option 2: If SimBa is elsewhere, update this path\n",
    "# simba_dir = \"/path/to/your/detection-of-verified-claims\"\n",
    "# simba_dir = \"C:/Users/YourName/detection-of-verified-claims\"  # Windows\n",
    "# simba_dir = \"/home/yourname/detection-of-verified-claims\"     # Linux\n",
    "\n",
    "print(f\"Looking for SimBa at: {os.path.abspath(simba_dir)}\")\n",
    "\n",
    "if os.path.exists(simba_dir):\n",
    "    sys.path.append(simba_dir)\n",
    "    os.chdir(simba_dir)\n",
    "    print(f\"Successfully changed to SimBa directory: {os.getcwd()}\")\n",
    "else:\n",
    "    print(f\"ERROR: SimBa directory not found at {os.path.abspath(simba_dir)}\")\n",
    "    print(\"Please update the 'simba_dir' variable above with the correct path.\")"
   ]
  },
  {
   "cell_type": "markdown",
   "id": "4b05abfd-55cb-480f-9b18-b9e62a55ea16",
   "metadata": {},
   "source": [
    "### Check SimBa Installation"
   ]
  },
  {
   "cell_type": "code",
   "execution_count": 10,
   "id": "b170b31c-de81-4a49-955d-cae37d74309a",
   "metadata": {},
   "outputs": [
    {
     "name": "stdout",
     "output_type": "stream",
     "text": [
      "Checking SimBa structure:\n",
      "  ✓ src/candidate_retrieval/retrieval.py: True\n",
      "  ✓ src/re_ranking/re_ranking.py: True\n",
      "  ✓ data/claimsKG/corpus.tsv: True\n",
      "\n",
      "✓ SimBa structure looks good!\n"
     ]
    }
   ],
   "source": [
    "import subprocess\n",
    "\n",
    "# Check SimBa structure\n",
    "def check_simba_structure():\n",
    "    required_files = [\n",
    "        \"src/candidate_retrieval/retrieval.py\",\n",
    "        \"src/re_ranking/re_ranking.py\",\n",
    "        \"data/claimsKG/corpus.tsv\"\n",
    "    ]\n",
    "    \n",
    "    print(\"Checking SimBa structure:\")\n",
    "    all_exist = True\n",
    "    for file_path in required_files:\n",
    "        exists = os.path.exists(file_path)\n",
    "        print(f\"  {'✓' if exists else '✗'} {file_path}: {exists}\")\n",
    "        if not exists:\n",
    "            all_exist = False\n",
    "    \n",
    "    return all_exist\n",
    "\n",
    "# Check structure\n",
    "structure_ok = check_simba_structure()\n",
    "\n",
    "if not structure_ok:\n",
    "    print(\"\\nERROR: Some required SimBa files are missing.\")\n",
    "    print(\"Please ensure you have the complete SimBa installation.\")\n",
    "else:\n",
    "    print(\"\\n✓ SimBa structure looks good!\")"
   ]
  },
  {
   "cell_type": "markdown",
   "id": "query-setup",
   "metadata": {},
   "source": [
    "### Create Sample Query"
   ]
  },
  {
   "cell_type": "code",
   "execution_count": 11,
   "id": "query-creation",
   "metadata": {},
   "outputs": [
    {
     "name": "stdout",
     "output_type": "stream",
     "text": [
      "Queries file: data/mydata/queries.tsv - ✓\n",
      "Using existing query: '\"Covid-19 vaccines increase the risk of dying from the new Covid-19 variants\"'\n"
     ]
    }
   ],
   "source": [
    "# Create queries file if needed\n",
    "queries_file = \"data/mydata/queries.tsv\"\n",
    "print(f\"Queries file: {queries_file} - {'✓' if os.path.exists(queries_file) else '✗'}\")\n",
    "\n",
    "if not os.path.exists(queries_file):\n",
    "    print(\"Creating queries file...\")\n",
    "    os.makedirs(\"data/mydata\", exist_ok=True)\n",
    "    query = \"Covid-19 vaccines increase the risk of dying from the new Covid-19 variants\"\n",
    "    with open(queries_file, \"w\", encoding=\"utf-8\") as f:\n",
    "        f.write(\"1\\t\" + query + \"\\n\")\n",
    "    print(\"✓ Queries file created\")\n",
    "else:\n",
    "    # Show existing query\n",
    "    with open(queries_file, \"r\", encoding=\"utf-8\") as f:\n",
    "        content = f.read().strip()\n",
    "        query = content.split('\\t')[1] if '\\t' in content else content\n",
    "    print(f\"Using existing query: '{query}'\")"
   ]
  },
  {
   "cell_type": "markdown",
   "id": "run-simba",
   "metadata": {},
   "source": [
    "### Run SimBa Analysis"
   ]
  },
  {
   "cell_type": "code",
   "execution_count": 14,
   "id": "simba-execution",
   "metadata": {},
   "outputs": [
    {
     "name": "stdout",
     "output_type": "stream",
     "text": [
      "Running SimBa Analysis...\n",
      "Dataset: mydata\n",
      "Database: claimsKG\n",
      "Use cache: False\n",
      "\n",
      "Input files:\n",
      "  Queries: data/mydata/queries.tsv - ✓\n",
      "  Targets: data/claimsKG/corpus.tsv - ✓\n",
      "Cleared cache: data\\cache\\mydata\n",
      "\n",
      "Running candidate retrieval...\n",
      "Candidate retrieval completed\n",
      "Running re-ranking...\n",
      "Re-ranking completed\n",
      "\n",
      "Output files created in data/mydata:\n",
      "  candidates.pickle.zip\n",
      "  pred_client.tsv\n",
      "  pred_qrels.tsv\n",
      "  queries.tsv\n",
      "\n",
      "SimBa analysis completed successfully!\n"
     ]
    }
   ],
   "source": [
    "def run_simba_analysis(dataset_name, database_name=\"claimsKG\", use_cache=True):\n",
    "    print(f\"Running SimBa Analysis...\")\n",
    "    print(f\"Dataset: {dataset_name}\")\n",
    "    print(f\"Database: {database_name}\")\n",
    "    print(f\"Use cache: {use_cache}\")\n",
    "    \n",
    "    # Input files\n",
    "    data_name_queries = f\"data/{dataset_name}/queries.tsv\"\n",
    "    data_name_targets = f\"data/{database_name}/corpus.tsv\"\n",
    "    \n",
    "    print(f\"\\nInput files:\")\n",
    "    print(f\"  Queries: {data_name_queries} - {'✓' if os.path.exists(data_name_queries) else '✗'}\")\n",
    "    print(f\"  Targets: {data_name_targets} - {'✓' if os.path.exists(data_name_targets) else '✗'}\")\n",
    "    \n",
    "    if not os.path.exists(data_name_queries) or not os.path.exists(data_name_targets):\n",
    "        print(\"Missing queries or claims database file!\")\n",
    "        return False\n",
    "    \n",
    "    # Handle cache\n",
    "    caching_directory = os.path.join(\"data\", \"cache\", dataset_name)\n",
    "    if not use_cache and os.path.exists(caching_directory):\n",
    "        import shutil\n",
    "        shutil.rmtree(caching_directory)\n",
    "        print(f\"Cleared cache: {caching_directory}\")\n",
    "    elif use_cache:\n",
    "        print(f\"Using cache if available at: {caching_directory}\")\n",
    "    \n",
    "    # Candidate retrieval\n",
    "    retrieval_command = [\n",
    "        \"python\", \"src/candidate_retrieval/retrieval.py\",\n",
    "        data_name_queries, data_name_targets,\n",
    "        dataset_name, dataset_name, \"braycurtis\", \"50\",\n",
    "        \"-sentence_embedding_models\", \"all-mpnet-base-v2\"\n",
    "    ]\n",
    "    \n",
    "    print(f\"\\nRunning candidate retrieval...\")\n",
    "    try:\n",
    "        result = subprocess.run(retrieval_command, capture_output=True, text=True, timeout=3600)\n",
    "        if result.returncode != 0:\n",
    "            print(f\"Candidate retrieval failed: {result.stderr}\")\n",
    "            return False\n",
    "        print(\"Candidate retrieval completed\")\n",
    "    except Exception as e:\n",
    "        print(f\"Error during candidate retrieval: {e}\")\n",
    "        return False\n",
    "    \n",
    "    # Re-ranking\n",
    "    reranking_command = [\n",
    "        \"python\", \"src/re_ranking/re_ranking.py\",\n",
    "        data_name_queries, data_name_targets,\n",
    "        dataset_name, dataset_name, \"braycurtis\", \"5\",\n",
    "        \"-sentence_embedding_models\",\n",
    "        \"all-mpnet-base-v2\", \"sentence-transformers/sentence-t5-base\",\n",
    "        \"princeton-nlp/unsup-simcse-roberta-base\",\n",
    "        \"-lexical_similarity_measures\", \"similar_words_ratio\"\n",
    "    ]\n",
    "    \n",
    "    print(f\"Running re-ranking...\")\n",
    "    try:\n",
    "        result = subprocess.run(reranking_command, capture_output=True, text=True, timeout=3600)\n",
    "        if result.returncode != 0:\n",
    "            print(f\"Re-ranking failed: {result.stderr}\")\n",
    "            return False\n",
    "        print(\"Re-ranking completed\")\n",
    "    except Exception as e:\n",
    "        print(f\"Error during re-ranking: {e}\")\n",
    "        return False\n",
    "    \n",
    "    # Check outputs\n",
    "    output_dir = f\"data/{dataset_name}\"\n",
    "    if os.path.exists(output_dir):\n",
    "        print(f\"\\nOutput files created in {output_dir}:\")\n",
    "        for file in os.listdir(output_dir):\n",
    "            print(f\"  {file}\")\n",
    "    \n",
    "    return True\n",
    "\n",
    "# Execute the function (this code should be outside the function definition)\n",
    "if structure_ok:\n",
    "    success = run_simba_analysis(\"mydata\", \"claimsKG\", use_cache=False)\n",
    "    if success:\n",
    "        print(\"\\nSimBa analysis completed successfully!\")\n",
    "    else:\n",
    "        print(\"\\nAnalysis failed. Check the error messages above.\")\n",
    "else:\n",
    "    print(\"Cannot run SimBa - missing required files\")"
   ]
  },
  {
   "cell_type": "markdown",
   "id": "4c0db827",
   "metadata": {},
   "source": [
    "### Load and Inspect Results"
   ]
  },
  {
   "cell_type": "code",
   "execution_count": 15,
   "id": "ad8195ed",
   "metadata": {},
   "outputs": [
    {
     "name": "stdout",
     "output_type": "stream",
     "text": [
      "Loading results from: data/mydata/pred_client.tsv\n",
      "Shape: (5, 5)\n",
      "Columns: ['query', 'vclaim', 'claimReviewURL', 'rating', 'similarity']\n",
      "\n",
      "SimBa Results Table:\n"
     ]
    },
    {
     "data": {
      "text/html": [
       "<table border=\"1\" class=\"dataframe\">\n",
       "  <thead>\n",
       "    <tr style=\"text-align: right;\">\n",
       "      <th>query</th>\n",
       "      <th>vclaim</th>\n",
       "      <th>claimReviewURL</th>\n",
       "      <th>rating</th>\n",
       "      <th>similarity</th>\n",
       "    </tr>\n",
       "  </thead>\n",
       "  <tbody>\n",
       "    <tr>\n",
       "      <td>Covid-19 vaccines increase the risk of dying from the new Covid-19 variants</td>\n",
       "      <td>Vaccinated people are more susceptible to Covid-19 variants</td>\n",
       "      <td><a href=\"https://factcheck.afp.com/http%253A%252F%252Fdoc.afp.com%252F9PB64D-1\" target=\"_blank\">https://factcheck.afp.com/http%253A%252F%252Fdoc.afp.com%252F9PB64D-1</a></td>\n",
       "      <td>b'False'</td>\n",
       "      <td>51.249025</td>\n",
       "    </tr>\n",
       "    <tr>\n",
       "      <td>Covid-19 vaccines increase the risk of dying from the new Covid-19 variants</td>\n",
       "      <td>Covid-19 vaccines will leave people exposed to deadly illness during the next cold and flu season and germ theory is a hoax</td>\n",
       "      <td><a href=\"https://factcheck.afp.com/covid-19-shots-not-designed-increase-cold-flu-lethality\" target=\"_blank\">https://factcheck.afp.com/covid-19-shots-not-designed-increase-cold-flu-lethality</a></td>\n",
       "      <td>b'False'</td>\n",
       "      <td>51.102840</td>\n",
       "    </tr>\n",
       "    <tr>\n",
       "      <td>Covid-19 vaccines increase the risk of dying from the new Covid-19 variants</td>\n",
       "      <td>Getting the first dose of Covid-19 vaccine increases risk of catching the novel coronavirus</td>\n",
       "      <td><a href=\"https://factcheck.afp.com/misleading-facebook-posts-claim-covid-19-vaccine-increases-risk-catching-novel-coronavirus\" target=\"_blank\">https://factcheck.afp.com/misleading-facebook-posts-claim-covid-19-vaccine-increases-risk-catching-novel-coronavirus</a></td>\n",
       "      <td>b'Misleading'</td>\n",
       "      <td>50.774386</td>\n",
       "    </tr>\n",
       "    <tr>\n",
       "      <td>Covid-19 vaccines increase the risk of dying from the new Covid-19 variants</td>\n",
       "      <td>People vaccinated against Covid-19 pose a health risk to others by shedding spike proteins</td>\n",
       "      <td><a href=\"https://factcheck.afp.com/covid-19-vaccine-does-not-make-people-dangerous-others\" target=\"_blank\">https://factcheck.afp.com/covid-19-vaccine-does-not-make-people-dangerous-others</a></td>\n",
       "      <td>b'False'</td>\n",
       "      <td>49.871481</td>\n",
       "    </tr>\n",
       "    <tr>\n",
       "      <td>Covid-19 vaccines increase the risk of dying from the new Covid-19 variants</td>\n",
       "      <td>Mass vaccination will cause monster Covid-19 variants</td>\n",
       "      <td><a href=\"https://factcheck.afp.com/mass-covid-19-vaccination-will-not-lead-out-control-variants\" target=\"_blank\">https://factcheck.afp.com/mass-covid-19-vaccination-will-not-lead-out-control-variants</a></td>\n",
       "      <td>b'False'</td>\n",
       "      <td>49.756611</td>\n",
       "    </tr>\n",
       "  </tbody>\n",
       "</table>"
      ],
      "text/plain": [
       "<IPython.core.display.HTML object>"
      ]
     },
     "metadata": {},
     "output_type": "display_data"
    }
   ],
   "source": [
    "import pandas as pd\n",
    "from IPython.display import display, HTML\n",
    "\n",
    "# Load the results\n",
    "output_files = [\n",
    "    \"data/mydata/pred_client.tsv\",  # Client-formatted results\n",
    "    \"data/mydata/pred_qrels.tsv\",   # Main results file\n",
    "]\n",
    "\n",
    "results_df = None\n",
    "for file_path in output_files:\n",
    "    if os.path.exists(file_path):\n",
    "        print(f\"Loading results from: {file_path}\")\n",
    "        try:\n",
    "            results_df = pd.read_csv(file_path, sep=\"\\t\")\n",
    "            print(f\"Shape: {results_df.shape}\")\n",
    "            print(f\"Columns: {list(results_df.columns)}\")\n",
    "            break\n",
    "        except Exception as e:\n",
    "            print(f\"Error loading {file_path}: {e}\")\n",
    "            continue\n",
    "\n",
    "if results_df is None:\n",
    "    print(\"No results file found. Check the data/mydata directory.\")\n",
    "    if os.path.exists(\"data/mydata\"):\n",
    "        print(\"Available files:\")\n",
    "        for file in os.listdir(\"data/mydata\"):\n",
    "            print(f\"  - {file}\")\n",
    "else:\n",
    "    # Create HTML version with clickable links\n",
    "    def make_clickable(url):\n",
    "        if pd.isna(url):\n",
    "            return url\n",
    "        return f'<a href=\"{url}\" target=\"_blank\">{url}</a>'\n",
    "    \n",
    "    display_df = results_df.copy()\n",
    "    \n",
    "    # Make URLs clickable if they exist\n",
    "    if 'claimReviewURL' in display_df.columns:\n",
    "        display_df['claimReviewURL'] = display_df['claimReviewURL'].apply(make_clickable)\n",
    "    \n",
    "    print(\"\\nSimBa Results Table:\")\n",
    "    display(HTML(display_df.to_html(escape=False, index=False)))"
   ]
  },
  {
   "cell_type": "markdown",
   "id": "256ad9bb",
   "metadata": {},
   "source": [
    "### Plot Similarity Score Distribution"
   ]
  },
  {
   "cell_type": "code",
   "execution_count": 16,
   "id": "6426bc0f",
   "metadata": {},
   "outputs": [
    {
     "data": {
      "image/png": "[encoded data removed]",
      "text/plain": [
       "<Figure size 1400x800 with 1 Axes>"
      ]
     },
     "metadata": {},
     "output_type": "display_data"
    },
    {
     "name": "stdout",
     "output_type": "stream",
     "text": [
      "\n",
      "Similarity Scores Summary:\n",
      "==================================================\n",
      "51.25%  |  Vaccinated people are more susceptible to Covid-19 variants\n",
      "         Rating: b'False'\n",
      "\n",
      "51.10%  |  Covid-19 vaccines will leave people exposed to deadly illness during the next co...\n",
      "         Rating: b'False'\n",
      "\n",
      "50.77%  |  Getting the first dose of Covid-19 vaccine increases risk of catching the novel ...\n",
      "         Rating: b'Misleading'\n",
      "\n",
      "49.87%  |  People vaccinated against Covid-19 pose a health risk to others by shedding spik...\n",
      "         Rating: b'False'\n",
      "\n",
      "49.76%  |  Mass vaccination will cause monster Covid-19 variants\n",
      "         Rating: b'False'\n",
      "\n",
      "Statistics:\n",
      "  Highest score: 51.25%\n",
      "  Lowest score:  49.76%\n",
      "  Average score: 50.55%\n",
      "  Score range:   1.49%\n"
     ]
    }
   ],
   "source": [
    "import matplotlib.pyplot as plt\n",
    "import pandas as pd\n",
    "\n",
    "if results_df is not None and 'similarity' in results_df.columns:\n",
    "    # Convert similarity to numeric\n",
    "    results_df['similarity'] = pd.to_numeric(results_df['similarity'], errors='coerce')\n",
    "    \n",
    "    # Create visualization\n",
    "    plt.figure(figsize=(14, 8))\n",
    "    \n",
    "    # Create meaningful labels\n",
    "    claim_labels = [f\"Claim {i+1}\" for i in range(len(results_df))]\n",
    "    bars = plt.bar(claim_labels, results_df['similarity'], \n",
    "                   color='skyblue', edgecolor='navy', alpha=0.7, linewidth=1)\n",
    "    \n",
    "    # Customize the chart\n",
    "    plt.title(\"SimBa Similarity Scores for Retrieved Claims\", fontsize=16, fontweight='bold', pad=20)\n",
    "    plt.xlabel(\"Retrieved Claims\", fontsize=12)\n",
    "    plt.ylabel(\"Similarity Score (%)\", fontsize=12)\n",
    "    plt.grid(True, alpha=0.3, axis='y')\n",
    "    \n",
    "    # Add value labels on bars\n",
    "    for i, bar in enumerate(bars):\n",
    "        height = bar.get_height()\n",
    "        plt.text(bar.get_x() + bar.get_width()/2., height + 0.2,\n",
    "                f'{height:.1f}%', ha='center', va='bottom', \n",
    "                fontweight='bold', fontsize=10)\n",
    "    \n",
    "    # Styling\n",
    "    plt.xticks(rotation=0)\n",
    "    plt.ylim(0, max(results_df['similarity']) * 1.15)\n",
    "    \n",
    "    plt.tight_layout()\n",
    "    plt.show()\n",
    "    \n",
    "    # Summary statistics\n",
    "    print(\"\\nSimilarity Scores Summary:\")\n",
    "    print(\"=\" * 50)\n",
    "    for i, row in results_df.iterrows():\n",
    "        claim_text = row['vclaim'][:80] + \"...\" if len(str(row['vclaim'])) > 80 else row['vclaim']\n",
    "        print(f\"{row['similarity']:.2f}%  |  {claim_text}\")\n",
    "        if 'rating' in row:\n",
    "            print(f\"         Rating: {row['rating']}\")\n",
    "        print()\n",
    "    \n",
    "    print(\"Statistics:\")\n",
    "    print(f\"  Highest score: {results_df['similarity'].max():.2f}%\")\n",
    "    print(f\"  Lowest score:  {results_df['similarity'].min():.2f}%\")\n",
    "    print(f\"  Average score: {results_df['similarity'].mean():.2f}%\")\n",
    "    print(f\"  Score range:   {results_df['similarity'].max() - results_df['similarity'].min():.2f}%\")\n",
    "\n",
    "else:\n",
    "    print(\"No similarity data available to plot.\")\n",
    "    if results_df is not None:\n",
    "        print(\"Available columns:\", results_df.columns.tolist())\n",
    "    else:\n",
    "        print(\"No results loaded. Run the previous cells first.\")"
   ]
  }
 ],
 "metadata": {
  "kernelspec": {
   "display_name": "Python 3 (ipykernel)",
   "language": "python",
   "name": "python3"
  },
  "language_info": {
   "codemirror_mode": {
    "name": "ipython",
    "version": 3
   },
   "file_extension": ".py",
   "mimetype": "text/x-python",
   "name": "python",
   "nbconvert_exporter": "python",
   "pygments_lexer": "ipython3",
   "version": "3.11.6"
  }
 },
 "nbformat": 4,
 "nbformat_minor": 5
}
